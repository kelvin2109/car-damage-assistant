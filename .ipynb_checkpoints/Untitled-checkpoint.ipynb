{
 "cells": [
  {
   "cell_type": "code",
   "execution_count": 1,
   "id": "4c2837b7",
   "metadata": {},
   "outputs": [],
   "source": [
    "import matplotlib.pyplot as plt\n",
    "import cv2\n",
    "import matplotlib.image as image\n",
    "import json\n",
    "import numpy as np\n",
    "import os\n",
    "import pandas as pd\n",
    "import plotly.express as px "
   ]
  },
  {
   "cell_type": "code",
   "execution_count": 2,
   "id": "d146b642",
   "metadata": {},
   "outputs": [],
   "source": [
    "with open(\"data/annotations/instances_train.json\",\"r\") as f:\n",
    "    data = json.load(f)"
   ]
  },
  {
   "cell_type": "code",
   "execution_count": 3,
   "id": "b2f201c0",
   "metadata": {},
   "outputs": [
    {
     "data": {
      "text/plain": [
       "dict_keys(['licenses', 'info', 'categories', 'images', 'annotations'])"
      ]
     },
     "execution_count": 3,
     "metadata": {},
     "output_type": "execute_result"
    }
   ],
   "source": [
    "data.keys()"
   ]
  },
  {
   "cell_type": "markdown",
   "id": "a87154f6",
   "metadata": {},
   "source": [
    "# EDA"
   ]
  },
  {
   "cell_type": "code",
   "execution_count": 4,
   "id": "bfbf3b4c",
   "metadata": {},
   "outputs": [
    {
     "name": "stdout",
     "output_type": "stream",
     "text": [
      "\n",
      "Type: list\n",
      "licenses:1 items\n",
      "first-element: {'name': 'CarDD', 'id': 0, 'url': 'https://cardd-ustc.github.io/'}\n",
      "\n",
      "Type: dict\n",
      "info: 5\n",
      "Dict with 5keys:{'contributor': 'Xinkuang Wang, Wenjing Li, Zhongcheng Wu', 'date_created': '2022.05.01', 'description': 'CarDD for car damage detection in COCO Format.', 'url': 'https://cardd-ustc.github.io/', 'version': 'v1.0'}\n",
      "\n",
      "Type: list\n",
      "categories:6 items\n",
      "first-element: {'id': 1, 'name': 'dent'}\n",
      "\n",
      "Type: list\n",
      "images:2816 items\n",
      "first-element: {'id': 1, 'width': 1000, 'height': 750, 'file_name': '000001.jpg', 'license': 0}\n",
      "\n",
      "Type: list\n",
      "annotations:6211 items\n",
      "first-element: {'id': 1, 'image_id': 1, 'category_id': 2, 'segmentation': [[233.35, 46.65, 217.25, 58.24, 210.82, 65.97, 204.38, 78.2, 197.3, 93.0, 192.15, 104.59, 187.0, 112.96, 180.56, 123.91, 174.12, 135.49, 169.61, 144.51, 167.04, 154.16, 167.04, 165.11, 175.41, 170.9, 185.71, 171.55, 196.01, 167.68, 205.02, 161.24, 214.03, 154.81, 224.33, 148.37, 233.99, 141.93, 244.29, 134.21, 256.52, 128.41, 267.47, 125.19, 277.77, 122.62, 288.71, 119.4, 298.37, 116.82, 310.6, 113.61, 322.83, 109.1, 333.13, 105.88, 344.08, 103.95, 355.02, 101.37, 366.61, 97.51, 369.83, 87.21, 364.68, 78.84, 352.45, 69.18, 341.5, 61.46, 331.2, 55.02, 314.46, 48.58, 302.23, 44.72, 291.93, 42.15, 276.48, 40.21, 266.18, 40.21, 254.59, 40.21]], 'area': 13584.0, 'bbox': [167.04, 40.21, 202.79, 131.34], 'iscrowd': 0, 'attributes': {'occluded': False}}\n"
     ]
    }
   ],
   "source": [
    "for k, v in data.items():\n",
    "    \n",
    "    if isinstance(v, list):\n",
    "        print(f\"\\nType: {type(v).__name__}\")\n",
    "        print(f\"{k}:{len(v)} items\")\n",
    "        if len(v)>0:\n",
    "            print(\"first-element:\",v[0])\n",
    "            \n",
    "    elif isinstance(v, dict):\n",
    "        print(f\"\\nType: {type(v).__name__}\")\n",
    "        print(f\"{k}: {len(v)}\")\n",
    "        print(f\"Dict with {len(v.keys())}keys:{v}\")\n",
    "        \n",
    "    else:\n",
    "        print()"
   ]
  },
  {
   "cell_type": "markdown",
   "id": "048f35ce",
   "metadata": {},
   "source": [
    "## **Conclusion**\n",
    "The dataset contains five main keys: **licenses**, **info**, **categories**, **images**, and **annotations**.  \n",
    "For car damage detection, the **important components** are `images`, `annotations`, and `categories`.  \n",
    "- `annotations` provide bounding boxes (`bbox`) and category IDs — essential for training.  \n",
    "- `segmentation` and `attributes` inside `annotations` are **not required** unless we do segmentation tasks.  \n",
    "- `licenses` and `info` are **metadata only**, not used for model training.\n",
    "\n",
    "Additional dataset characteristics:\n",
    "- Image resolutions are generally consistent (e.g., around **1000×750**), providing enough detail for detection.  \n",
    "- With **2,816 images** and **6,211 annotations**, each image contains on average **~2 damage instances**."
   ]
  },
  {
   "cell_type": "code",
   "execution_count": 5,
   "id": "115776cf",
   "metadata": {},
   "outputs": [],
   "source": [
    "def clean_annotations(data):\n",
    "    \n",
    "    #path for input annotation-file\n",
    "    input_path = \"data/annotations/instances_train.json\"\n",
    "    #path for cleaned annotation-folder\n",
    "    cleaned_dir = \"data/annotations/cleaned/\"\n",
    "    clean_file_name = \"annotations_train_cleaned.json\"\n",
    "    #Create folder if it doesn’t exist\n",
    "    os.makedirs(cleaned_dir,exist_ok=True)\n",
    "    #check if we already had the cleaned annotation file\n",
    "    if os.path.exists(os.path.join(cleaned_dir,clean_file_name)):\n",
    "        print(\"The cleaned file already exist.\")\n",
    "        \n",
    "        with open(os.path.join(cleaned_dir,clean_file_name),\"r\") as f:\n",
    "            data= json.load(f)\n",
    "    \n",
    "    else:\n",
    "        with open(input_path,\"r\") as f:\n",
    "            data = json.load(f)\n",
    "        \n",
    "        #Remove unnecessary meta-data\n",
    "        keys = [\"licenses\",\"info\"]\n",
    "        for key in keys:\n",
    "            if key in data:\n",
    "                del data[key]\n",
    "                print(f\"{key} successfully deleted!\")\n",
    "                \n",
    "        #Remove unnecessary annotation-field\n",
    "        un_field = [\"segmentation\",\"attributes\"]\n",
    "        for u_ in un_field:\n",
    "            deleted = False\n",
    "            for anno in data[\"annotations\"]:\n",
    "                if u_ in anno:\n",
    "                    anno.pop(u_,None)\n",
    "                    deleted = True\n",
    "            if(deleted):\n",
    "                print(f\"{u_} successfully deleted!\")\n",
    "                \n",
    "        with open(os.path.join(cleaned_dir,clean_file_name),\"w\") as f:\n",
    "            json.dump(data,f,indent = 2)\n",
    "            \n",
    "        print(f\"Cleaned file saved at {os.path.join(cleaned_dir,clean_file_name)}\")\n",
    "                    \n",
    "    return data"
   ]
  },
  {
   "cell_type": "code",
   "execution_count": 6,
   "id": "09654d35",
   "metadata": {},
   "outputs": [
    {
     "name": "stdout",
     "output_type": "stream",
     "text": [
      "The cleaned file already exist.\n"
     ]
    }
   ],
   "source": [
    "data = clean_annotations(data)"
   ]
  },
  {
   "cell_type": "code",
   "execution_count": 7,
   "id": "800ec197",
   "metadata": {},
   "outputs": [],
   "source": [
    "with open(\"annotations_cleaned.json\",\"w\") as f:\n",
    "    json.dump(data,f,indent=4)"
   ]
  },
  {
   "cell_type": "code",
   "execution_count": 8,
   "id": "d831eb8a",
   "metadata": {},
   "outputs": [],
   "source": [
    "df_cat = pd.DataFrame(data[\"categories\"])\n",
    "df_ann = pd.DataFrame(data[\"annotations\"])\n",
    "counts = df_ann[\"category_id\"].value_counts().reset_index()\n",
    "merged_df = pd.merge(df_cat, counts, left_on='id', right_on='category_id', how='inner')"
   ]
  },
  {
   "cell_type": "code",
   "execution_count": 9,
   "id": "0f54278c",
   "metadata": {},
   "outputs": [
    {
     "data": {
      "text/html": [
       "<div>\n",
       "<style scoped>\n",
       "    .dataframe tbody tr th:only-of-type {\n",
       "        vertical-align: middle;\n",
       "    }\n",
       "\n",
       "    .dataframe tbody tr th {\n",
       "        vertical-align: top;\n",
       "    }\n",
       "\n",
       "    .dataframe thead th {\n",
       "        text-align: right;\n",
       "    }\n",
       "</style>\n",
       "<table border=\"1\" class=\"dataframe\">\n",
       "  <thead>\n",
       "    <tr style=\"text-align: right;\">\n",
       "      <th></th>\n",
       "      <th>id</th>\n",
       "      <th>name</th>\n",
       "      <th>category_id</th>\n",
       "      <th>count</th>\n",
       "    </tr>\n",
       "  </thead>\n",
       "  <tbody>\n",
       "    <tr>\n",
       "      <th>0</th>\n",
       "      <td>1</td>\n",
       "      <td>dent</td>\n",
       "      <td>1</td>\n",
       "      <td>1806</td>\n",
       "    </tr>\n",
       "    <tr>\n",
       "      <th>1</th>\n",
       "      <td>2</td>\n",
       "      <td>scratch</td>\n",
       "      <td>2</td>\n",
       "      <td>2560</td>\n",
       "    </tr>\n",
       "    <tr>\n",
       "      <th>2</th>\n",
       "      <td>3</td>\n",
       "      <td>crack</td>\n",
       "      <td>3</td>\n",
       "      <td>651</td>\n",
       "    </tr>\n",
       "    <tr>\n",
       "      <th>3</th>\n",
       "      <td>4</td>\n",
       "      <td>glass shatter</td>\n",
       "      <td>4</td>\n",
       "      <td>475</td>\n",
       "    </tr>\n",
       "    <tr>\n",
       "      <th>4</th>\n",
       "      <td>5</td>\n",
       "      <td>lamp broken</td>\n",
       "      <td>5</td>\n",
       "      <td>494</td>\n",
       "    </tr>\n",
       "    <tr>\n",
       "      <th>5</th>\n",
       "      <td>6</td>\n",
       "      <td>tire flat</td>\n",
       "      <td>6</td>\n",
       "      <td>225</td>\n",
       "    </tr>\n",
       "  </tbody>\n",
       "</table>\n",
       "</div>"
      ],
      "text/plain": [
       "   id           name  category_id  count\n",
       "0   1           dent            1   1806\n",
       "1   2        scratch            2   2560\n",
       "2   3          crack            3    651\n",
       "3   4  glass shatter            4    475\n",
       "4   5    lamp broken            5    494\n",
       "5   6      tire flat            6    225"
      ]
     },
     "execution_count": 9,
     "metadata": {},
     "output_type": "execute_result"
    }
   ],
   "source": [
    "merged_df"
   ]
  },
  {
   "cell_type": "code",
   "execution_count": 10,
   "id": "6e04ae6a",
   "metadata": {},
   "outputs": [
    {
     "data": {
      "application/vnd.plotly.v1+json": {
       "config": {
        "plotlyServerURL": "https://plot.ly"
       },
       "data": [
        {
         "domain": {
          "x": [
           0,
           1
          ],
          "y": [
           0,
           1
          ]
         },
         "hole": 0.4,
         "hovertemplate": "name=%{label}<br>count=%{value}<extra></extra>",
         "labels": [
          "dent",
          "scratch",
          "crack",
          "glass shatter",
          "lamp broken",
          "tire flat"
         ],
         "legendgroup": "",
         "name": "",
         "showlegend": true,
         "type": "pie",
         "values": {
          "bdata": "DgcACosC2wHuAeEA",
          "dtype": "i2"
         }
        }
       ],
       "layout": {
        "legend": {
         "tracegroupgap": 0
        },
        "template": {
         "data": {
          "bar": [
           {
            "error_x": {
             "color": "#2a3f5f"
            },
            "error_y": {
             "color": "#2a3f5f"
            },
            "marker": {
             "line": {
              "color": "#E5ECF6",
              "width": 0.5
             },
             "pattern": {
              "fillmode": "overlay",
              "size": 10,
              "solidity": 0.2
             }
            },
            "type": "bar"
           }
          ],
          "barpolar": [
           {
            "marker": {
             "line": {
              "color": "#E5ECF6",
              "width": 0.5
             },
             "pattern": {
              "fillmode": "overlay",
              "size": 10,
              "solidity": 0.2
             }
            },
            "type": "barpolar"
           }
          ],
          "carpet": [
           {
            "aaxis": {
             "endlinecolor": "#2a3f5f",
             "gridcolor": "white",
             "linecolor": "white",
             "minorgridcolor": "white",
             "startlinecolor": "#2a3f5f"
            },
            "baxis": {
             "endlinecolor": "#2a3f5f",
             "gridcolor": "white",
             "linecolor": "white",
             "minorgridcolor": "white",
             "startlinecolor": "#2a3f5f"
            },
            "type": "carpet"
           }
          ],
          "choropleth": [
           {
            "colorbar": {
             "outlinewidth": 0,
             "ticks": ""
            },
            "type": "choropleth"
           }
          ],
          "contour": [
           {
            "colorbar": {
             "outlinewidth": 0,
             "ticks": ""
            },
            "colorscale": [
             [
              0,
              "#0d0887"
             ],
             [
              0.1111111111111111,
              "#46039f"
             ],
             [
              0.2222222222222222,
              "#7201a8"
             ],
             [
              0.3333333333333333,
              "#9c179e"
             ],
             [
              0.4444444444444444,
              "#bd3786"
             ],
             [
              0.5555555555555556,
              "#d8576b"
             ],
             [
              0.6666666666666666,
              "#ed7953"
             ],
             [
              0.7777777777777778,
              "#fb9f3a"
             ],
             [
              0.8888888888888888,
              "#fdca26"
             ],
             [
              1,
              "#f0f921"
             ]
            ],
            "type": "contour"
           }
          ],
          "contourcarpet": [
           {
            "colorbar": {
             "outlinewidth": 0,
             "ticks": ""
            },
            "type": "contourcarpet"
           }
          ],
          "heatmap": [
           {
            "colorbar": {
             "outlinewidth": 0,
             "ticks": ""
            },
            "colorscale": [
             [
              0,
              "#0d0887"
             ],
             [
              0.1111111111111111,
              "#46039f"
             ],
             [
              0.2222222222222222,
              "#7201a8"
             ],
             [
              0.3333333333333333,
              "#9c179e"
             ],
             [
              0.4444444444444444,
              "#bd3786"
             ],
             [
              0.5555555555555556,
              "#d8576b"
             ],
             [
              0.6666666666666666,
              "#ed7953"
             ],
             [
              0.7777777777777778,
              "#fb9f3a"
             ],
             [
              0.8888888888888888,
              "#fdca26"
             ],
             [
              1,
              "#f0f921"
             ]
            ],
            "type": "heatmap"
           }
          ],
          "histogram": [
           {
            "marker": {
             "pattern": {
              "fillmode": "overlay",
              "size": 10,
              "solidity": 0.2
             }
            },
            "type": "histogram"
           }
          ],
          "histogram2d": [
           {
            "colorbar": {
             "outlinewidth": 0,
             "ticks": ""
            },
            "colorscale": [
             [
              0,
              "#0d0887"
             ],
             [
              0.1111111111111111,
              "#46039f"
             ],
             [
              0.2222222222222222,
              "#7201a8"
             ],
             [
              0.3333333333333333,
              "#9c179e"
             ],
             [
              0.4444444444444444,
              "#bd3786"
             ],
             [
              0.5555555555555556,
              "#d8576b"
             ],
             [
              0.6666666666666666,
              "#ed7953"
             ],
             [
              0.7777777777777778,
              "#fb9f3a"
             ],
             [
              0.8888888888888888,
              "#fdca26"
             ],
             [
              1,
              "#f0f921"
             ]
            ],
            "type": "histogram2d"
           }
          ],
          "histogram2dcontour": [
           {
            "colorbar": {
             "outlinewidth": 0,
             "ticks": ""
            },
            "colorscale": [
             [
              0,
              "#0d0887"
             ],
             [
              0.1111111111111111,
              "#46039f"
             ],
             [
              0.2222222222222222,
              "#7201a8"
             ],
             [
              0.3333333333333333,
              "#9c179e"
             ],
             [
              0.4444444444444444,
              "#bd3786"
             ],
             [
              0.5555555555555556,
              "#d8576b"
             ],
             [
              0.6666666666666666,
              "#ed7953"
             ],
             [
              0.7777777777777778,
              "#fb9f3a"
             ],
             [
              0.8888888888888888,
              "#fdca26"
             ],
             [
              1,
              "#f0f921"
             ]
            ],
            "type": "histogram2dcontour"
           }
          ],
          "mesh3d": [
           {
            "colorbar": {
             "outlinewidth": 0,
             "ticks": ""
            },
            "type": "mesh3d"
           }
          ],
          "parcoords": [
           {
            "line": {
             "colorbar": {
              "outlinewidth": 0,
              "ticks": ""
             }
            },
            "type": "parcoords"
           }
          ],
          "pie": [
           {
            "automargin": true,
            "type": "pie"
           }
          ],
          "scatter": [
           {
            "fillpattern": {
             "fillmode": "overlay",
             "size": 10,
             "solidity": 0.2
            },
            "type": "scatter"
           }
          ],
          "scatter3d": [
           {
            "line": {
             "colorbar": {
              "outlinewidth": 0,
              "ticks": ""
             }
            },
            "marker": {
             "colorbar": {
              "outlinewidth": 0,
              "ticks": ""
             }
            },
            "type": "scatter3d"
           }
          ],
          "scattercarpet": [
           {
            "marker": {
             "colorbar": {
              "outlinewidth": 0,
              "ticks": ""
             }
            },
            "type": "scattercarpet"
           }
          ],
          "scattergeo": [
           {
            "marker": {
             "colorbar": {
              "outlinewidth": 0,
              "ticks": ""
             }
            },
            "type": "scattergeo"
           }
          ],
          "scattergl": [
           {
            "marker": {
             "colorbar": {
              "outlinewidth": 0,
              "ticks": ""
             }
            },
            "type": "scattergl"
           }
          ],
          "scattermap": [
           {
            "marker": {
             "colorbar": {
              "outlinewidth": 0,
              "ticks": ""
             }
            },
            "type": "scattermap"
           }
          ],
          "scattermapbox": [
           {
            "marker": {
             "colorbar": {
              "outlinewidth": 0,
              "ticks": ""
             }
            },
            "type": "scattermapbox"
           }
          ],
          "scatterpolar": [
           {
            "marker": {
             "colorbar": {
              "outlinewidth": 0,
              "ticks": ""
             }
            },
            "type": "scatterpolar"
           }
          ],
          "scatterpolargl": [
           {
            "marker": {
             "colorbar": {
              "outlinewidth": 0,
              "ticks": ""
             }
            },
            "type": "scatterpolargl"
           }
          ],
          "scatterternary": [
           {
            "marker": {
             "colorbar": {
              "outlinewidth": 0,
              "ticks": ""
             }
            },
            "type": "scatterternary"
           }
          ],
          "surface": [
           {
            "colorbar": {
             "outlinewidth": 0,
             "ticks": ""
            },
            "colorscale": [
             [
              0,
              "#0d0887"
             ],
             [
              0.1111111111111111,
              "#46039f"
             ],
             [
              0.2222222222222222,
              "#7201a8"
             ],
             [
              0.3333333333333333,
              "#9c179e"
             ],
             [
              0.4444444444444444,
              "#bd3786"
             ],
             [
              0.5555555555555556,
              "#d8576b"
             ],
             [
              0.6666666666666666,
              "#ed7953"
             ],
             [
              0.7777777777777778,
              "#fb9f3a"
             ],
             [
              0.8888888888888888,
              "#fdca26"
             ],
             [
              1,
              "#f0f921"
             ]
            ],
            "type": "surface"
           }
          ],
          "table": [
           {
            "cells": {
             "fill": {
              "color": "#EBF0F8"
             },
             "line": {
              "color": "white"
             }
            },
            "header": {
             "fill": {
              "color": "#C8D4E3"
             },
             "line": {
              "color": "white"
             }
            },
            "type": "table"
           }
          ]
         },
         "layout": {
          "annotationdefaults": {
           "arrowcolor": "#2a3f5f",
           "arrowhead": 0,
           "arrowwidth": 1
          },
          "autotypenumbers": "strict",
          "coloraxis": {
           "colorbar": {
            "outlinewidth": 0,
            "ticks": ""
           }
          },
          "colorscale": {
           "diverging": [
            [
             0,
             "#8e0152"
            ],
            [
             0.1,
             "#c51b7d"
            ],
            [
             0.2,
             "#de77ae"
            ],
            [
             0.3,
             "#f1b6da"
            ],
            [
             0.4,
             "#fde0ef"
            ],
            [
             0.5,
             "#f7f7f7"
            ],
            [
             0.6,
             "#e6f5d0"
            ],
            [
             0.7,
             "#b8e186"
            ],
            [
             0.8,
             "#7fbc41"
            ],
            [
             0.9,
             "#4d9221"
            ],
            [
             1,
             "#276419"
            ]
           ],
           "sequential": [
            [
             0,
             "#0d0887"
            ],
            [
             0.1111111111111111,
             "#46039f"
            ],
            [
             0.2222222222222222,
             "#7201a8"
            ],
            [
             0.3333333333333333,
             "#9c179e"
            ],
            [
             0.4444444444444444,
             "#bd3786"
            ],
            [
             0.5555555555555556,
             "#d8576b"
            ],
            [
             0.6666666666666666,
             "#ed7953"
            ],
            [
             0.7777777777777778,
             "#fb9f3a"
            ],
            [
             0.8888888888888888,
             "#fdca26"
            ],
            [
             1,
             "#f0f921"
            ]
           ],
           "sequentialminus": [
            [
             0,
             "#0d0887"
            ],
            [
             0.1111111111111111,
             "#46039f"
            ],
            [
             0.2222222222222222,
             "#7201a8"
            ],
            [
             0.3333333333333333,
             "#9c179e"
            ],
            [
             0.4444444444444444,
             "#bd3786"
            ],
            [
             0.5555555555555556,
             "#d8576b"
            ],
            [
             0.6666666666666666,
             "#ed7953"
            ],
            [
             0.7777777777777778,
             "#fb9f3a"
            ],
            [
             0.8888888888888888,
             "#fdca26"
            ],
            [
             1,
             "#f0f921"
            ]
           ]
          },
          "colorway": [
           "#636efa",
           "#EF553B",
           "#00cc96",
           "#ab63fa",
           "#FFA15A",
           "#19d3f3",
           "#FF6692",
           "#B6E880",
           "#FF97FF",
           "#FECB52"
          ],
          "font": {
           "color": "#2a3f5f"
          },
          "geo": {
           "bgcolor": "white",
           "lakecolor": "white",
           "landcolor": "#E5ECF6",
           "showlakes": true,
           "showland": true,
           "subunitcolor": "white"
          },
          "hoverlabel": {
           "align": "left"
          },
          "hovermode": "closest",
          "mapbox": {
           "style": "light"
          },
          "paper_bgcolor": "white",
          "plot_bgcolor": "#E5ECF6",
          "polar": {
           "angularaxis": {
            "gridcolor": "white",
            "linecolor": "white",
            "ticks": ""
           },
           "bgcolor": "#E5ECF6",
           "radialaxis": {
            "gridcolor": "white",
            "linecolor": "white",
            "ticks": ""
           }
          },
          "scene": {
           "xaxis": {
            "backgroundcolor": "#E5ECF6",
            "gridcolor": "white",
            "gridwidth": 2,
            "linecolor": "white",
            "showbackground": true,
            "ticks": "",
            "zerolinecolor": "white"
           },
           "yaxis": {
            "backgroundcolor": "#E5ECF6",
            "gridcolor": "white",
            "gridwidth": 2,
            "linecolor": "white",
            "showbackground": true,
            "ticks": "",
            "zerolinecolor": "white"
           },
           "zaxis": {
            "backgroundcolor": "#E5ECF6",
            "gridcolor": "white",
            "gridwidth": 2,
            "linecolor": "white",
            "showbackground": true,
            "ticks": "",
            "zerolinecolor": "white"
           }
          },
          "shapedefaults": {
           "line": {
            "color": "#2a3f5f"
           }
          },
          "ternary": {
           "aaxis": {
            "gridcolor": "white",
            "linecolor": "white",
            "ticks": ""
           },
           "baxis": {
            "gridcolor": "white",
            "linecolor": "white",
            "ticks": ""
           },
           "bgcolor": "#E5ECF6",
           "caxis": {
            "gridcolor": "white",
            "linecolor": "white",
            "ticks": ""
           }
          },
          "title": {
           "x": 0.05
          },
          "xaxis": {
           "automargin": true,
           "gridcolor": "white",
           "linecolor": "white",
           "ticks": "",
           "title": {
            "standoff": 15
           },
           "zerolinecolor": "white",
           "zerolinewidth": 2
          },
          "yaxis": {
           "automargin": true,
           "gridcolor": "white",
           "linecolor": "white",
           "ticks": "",
           "title": {
            "standoff": 15
           },
           "zerolinecolor": "white",
           "zerolinewidth": 2
          }
         }
        },
        "title": {
         "text": "Image Class Distribution (Donut Chart)"
        }
       }
      }
     },
     "metadata": {},
     "output_type": "display_data"
    }
   ],
   "source": [
    "fig = px.pie(\n",
    "    merged_df,\n",
    "    names=\"name\",\n",
    "    values=\"count\",\n",
    "    title=\"Image Class Distribution (Donut Chart)\",\n",
    "    hole=0.4  # set 0 < hole < 1 to create a donut\n",
    ")\n",
    "\n",
    "fig.show()"
   ]
  },
  {
   "cell_type": "code",
   "execution_count": 11,
   "id": "cff842d8-7c01-4eb5-8d38-92f490683393",
   "metadata": {},
   "outputs": [
    {
     "data": {
      "text/plain": [
       "6"
      ]
     },
     "execution_count": 11,
     "metadata": {},
     "output_type": "execute_result"
    }
   ],
   "source": [
    "len(merged_df)"
   ]
  },
  {
   "cell_type": "markdown",
   "id": "0035eb47-94d9-42df-8990-3d61eb9d189f",
   "metadata": {},
   "source": [
    "## Class Distribution Conclusion\n",
    "\n",
    "The dataset displays a **clear class imbalance** across the six damage categories.  \n",
    "The classes **scratch (2560 samples)** and **dent (1806 samples)** are significantly more frequent than the others.  \n",
    "In contrast, **tire flat (225 samples)**, **glass shatter (475 samples)**, and **lamp broken (494 samples)** have much fewer samples.\n",
    "\n",
    "This imbalance may cause the model to **bias predictions toward the common classes**, leading to **lower recall and poor mAP** for the minority classes.\n",
    "\n",
    "### Recommended Measures\n",
    "We will address this imbalance by applying **class-weighted loss** in the **classification head of Faster R-CNN**.  \n",
    "This approach increases the contribution of minority classes during training, helping the model learn to recognize them more effectively without altering the dataset itself.\n",
    "\n",
    "### Evaluation Focus\n",
    "- Monitor **per-class mAP**, not only overall mAP, to ensure performance is balanced across all damage categories."
   ]
  },
  {
   "cell_type": "code",
   "execution_count": 12,
   "id": "d30a69fe-8de2-4fb1-992a-dab14be25039",
   "metadata": {},
   "outputs": [
    {
     "data": {
      "text/html": [
       "<div>\n",
       "<style scoped>\n",
       "    .dataframe tbody tr th:only-of-type {\n",
       "        vertical-align: middle;\n",
       "    }\n",
       "\n",
       "    .dataframe tbody tr th {\n",
       "        vertical-align: top;\n",
       "    }\n",
       "\n",
       "    .dataframe thead th {\n",
       "        text-align: right;\n",
       "    }\n",
       "</style>\n",
       "<table border=\"1\" class=\"dataframe\">\n",
       "  <thead>\n",
       "    <tr style=\"text-align: right;\">\n",
       "      <th></th>\n",
       "      <th>id</th>\n",
       "      <th>width</th>\n",
       "      <th>height</th>\n",
       "      <th>file_name</th>\n",
       "      <th>license</th>\n",
       "    </tr>\n",
       "  </thead>\n",
       "  <tbody>\n",
       "    <tr>\n",
       "      <th>0</th>\n",
       "      <td>1</td>\n",
       "      <td>1000</td>\n",
       "      <td>750</td>\n",
       "      <td>000001.jpg</td>\n",
       "      <td>0</td>\n",
       "    </tr>\n",
       "    <tr>\n",
       "      <th>1</th>\n",
       "      <td>2</td>\n",
       "      <td>1000</td>\n",
       "      <td>667</td>\n",
       "      <td>000002.jpg</td>\n",
       "      <td>0</td>\n",
       "    </tr>\n",
       "    <tr>\n",
       "      <th>2</th>\n",
       "      <td>3</td>\n",
       "      <td>1000</td>\n",
       "      <td>667</td>\n",
       "      <td>000003.jpg</td>\n",
       "      <td>0</td>\n",
       "    </tr>\n",
       "    <tr>\n",
       "      <th>3</th>\n",
       "      <td>4</td>\n",
       "      <td>1000</td>\n",
       "      <td>667</td>\n",
       "      <td>000004.jpg</td>\n",
       "      <td>0</td>\n",
       "    </tr>\n",
       "    <tr>\n",
       "      <th>4</th>\n",
       "      <td>5</td>\n",
       "      <td>1000</td>\n",
       "      <td>667</td>\n",
       "      <td>000005.jpg</td>\n",
       "      <td>0</td>\n",
       "    </tr>\n",
       "    <tr>\n",
       "      <th>5</th>\n",
       "      <td>6</td>\n",
       "      <td>1000</td>\n",
       "      <td>667</td>\n",
       "      <td>000006.jpg</td>\n",
       "      <td>0</td>\n",
       "    </tr>\n",
       "    <tr>\n",
       "      <th>6</th>\n",
       "      <td>7</td>\n",
       "      <td>1000</td>\n",
       "      <td>667</td>\n",
       "      <td>000007.jpg</td>\n",
       "      <td>0</td>\n",
       "    </tr>\n",
       "    <tr>\n",
       "      <th>7</th>\n",
       "      <td>8</td>\n",
       "      <td>1000</td>\n",
       "      <td>678</td>\n",
       "      <td>000008.jpg</td>\n",
       "      <td>0</td>\n",
       "    </tr>\n",
       "    <tr>\n",
       "      <th>8</th>\n",
       "      <td>9</td>\n",
       "      <td>1000</td>\n",
       "      <td>667</td>\n",
       "      <td>000009.jpg</td>\n",
       "      <td>0</td>\n",
       "    </tr>\n",
       "    <tr>\n",
       "      <th>9</th>\n",
       "      <td>10</td>\n",
       "      <td>1000</td>\n",
       "      <td>667</td>\n",
       "      <td>000010.jpg</td>\n",
       "      <td>0</td>\n",
       "    </tr>\n",
       "  </tbody>\n",
       "</table>\n",
       "</div>"
      ],
      "text/plain": [
       "   id  width  height   file_name  license\n",
       "0   1   1000     750  000001.jpg        0\n",
       "1   2   1000     667  000002.jpg        0\n",
       "2   3   1000     667  000003.jpg        0\n",
       "3   4   1000     667  000004.jpg        0\n",
       "4   5   1000     667  000005.jpg        0\n",
       "5   6   1000     667  000006.jpg        0\n",
       "6   7   1000     667  000007.jpg        0\n",
       "7   8   1000     678  000008.jpg        0\n",
       "8   9   1000     667  000009.jpg        0\n",
       "9  10   1000     667  000010.jpg        0"
      ]
     },
     "execution_count": 12,
     "metadata": {},
     "output_type": "execute_result"
    }
   ],
   "source": [
    "df_img = pd.DataFrame(data['images'])\n",
    "df_img.head(10)"
   ]
  },
  {
   "cell_type": "code",
   "execution_count": 32,
   "id": "051170bc-0514-4164-bf15-167fd56dbeb7",
   "metadata": {},
   "outputs": [],
   "source": [
    "unique_with_all_columns = df_ann.drop_duplicates(subset=['category_id'])"
   ]
  },
  {
   "cell_type": "code",
   "execution_count": 35,
   "id": "9ea2588d-3f10-4a95-a4f0-bdeb9130f466",
   "metadata": {},
   "outputs": [],
   "source": [
    "unique_img_per_class = df_ann.groupby('category_id').sample(n=1)"
   ]
  },
  {
   "cell_type": "code",
   "execution_count": 36,
   "id": "76548b56-e0ba-40a4-b072-6a6d224774cc",
   "metadata": {},
   "outputs": [
    {
     "data": {
      "text/html": [
       "<div>\n",
       "<style scoped>\n",
       "    .dataframe tbody tr th:only-of-type {\n",
       "        vertical-align: middle;\n",
       "    }\n",
       "\n",
       "    .dataframe tbody tr th {\n",
       "        vertical-align: top;\n",
       "    }\n",
       "\n",
       "    .dataframe thead th {\n",
       "        text-align: right;\n",
       "    }\n",
       "</style>\n",
       "<table border=\"1\" class=\"dataframe\">\n",
       "  <thead>\n",
       "    <tr style=\"text-align: right;\">\n",
       "      <th></th>\n",
       "      <th>id</th>\n",
       "      <th>image_id</th>\n",
       "      <th>category_id</th>\n",
       "      <th>area</th>\n",
       "      <th>bbox</th>\n",
       "      <th>iscrowd</th>\n",
       "    </tr>\n",
       "  </thead>\n",
       "  <tbody>\n",
       "    <tr>\n",
       "      <th>4803</th>\n",
       "      <td>4804</td>\n",
       "      <td>2978</td>\n",
       "      <td>1</td>\n",
       "      <td>74358.0</td>\n",
       "      <td>[261.0, 207.3, 314.28, 322.25]</td>\n",
       "      <td>0</td>\n",
       "    </tr>\n",
       "    <tr>\n",
       "      <th>4104</th>\n",
       "      <td>4105</td>\n",
       "      <td>2549</td>\n",
       "      <td>2</td>\n",
       "      <td>22445.0</td>\n",
       "      <td>[369.4, 481.02, 169.67, 179.72]</td>\n",
       "      <td>0</td>\n",
       "    </tr>\n",
       "    <tr>\n",
       "      <th>4745</th>\n",
       "      <td>4746</td>\n",
       "      <td>2942</td>\n",
       "      <td>3</td>\n",
       "      <td>3643.0</td>\n",
       "      <td>[332.77, 560.62, 67.31, 93.24]</td>\n",
       "      <td>0</td>\n",
       "    </tr>\n",
       "    <tr>\n",
       "      <th>282</th>\n",
       "      <td>283</td>\n",
       "      <td>178</td>\n",
       "      <td>4</td>\n",
       "      <td>549347.0</td>\n",
       "      <td>[0.0, 71.56, 1000.0, 582.44]</td>\n",
       "      <td>0</td>\n",
       "    </tr>\n",
       "    <tr>\n",
       "      <th>5303</th>\n",
       "      <td>5304</td>\n",
       "      <td>3391</td>\n",
       "      <td>5</td>\n",
       "      <td>186211.0</td>\n",
       "      <td>[0.0, 106.74, 667.76, 446.62]</td>\n",
       "      <td>0</td>\n",
       "    </tr>\n",
       "    <tr>\n",
       "      <th>1088</th>\n",
       "      <td>1089</td>\n",
       "      <td>728</td>\n",
       "      <td>6</td>\n",
       "      <td>314669.0</td>\n",
       "      <td>[181.8, 70.35, 646.9, 584.89]</td>\n",
       "      <td>0</td>\n",
       "    </tr>\n",
       "  </tbody>\n",
       "</table>\n",
       "</div>"
      ],
      "text/plain": [
       "        id  image_id  category_id      area                             bbox  \\\n",
       "4803  4804      2978            1   74358.0   [261.0, 207.3, 314.28, 322.25]   \n",
       "4104  4105      2549            2   22445.0  [369.4, 481.02, 169.67, 179.72]   \n",
       "4745  4746      2942            3    3643.0   [332.77, 560.62, 67.31, 93.24]   \n",
       "282    283       178            4  549347.0     [0.0, 71.56, 1000.0, 582.44]   \n",
       "5303  5304      3391            5  186211.0    [0.0, 106.74, 667.76, 446.62]   \n",
       "1088  1089       728            6  314669.0    [181.8, 70.35, 646.9, 584.89]   \n",
       "\n",
       "      iscrowd  \n",
       "4803        0  \n",
       "4104        0  \n",
       "4745        0  \n",
       "282         0  \n",
       "5303        0  \n",
       "1088        0  "
      ]
     },
     "execution_count": 36,
     "metadata": {},
     "output_type": "execute_result"
    }
   ],
   "source": [
    "unique_with_all_columns"
   ]
  },
  {
   "cell_type": "code",
   "execution_count": 14,
   "id": "8822a587",
   "metadata": {},
   "outputs": [],
   "source": [
    "def show_presentated_image_eachclass(img_dir,ammount_of_class):\n",
    "    img_dir = \"data/train\"\n",
    "    \n",
    "    row = math.ceil(class_/3)\n",
    "    fig, axes = plt.subplots(row,3,figsize=(10,10))\n",
    "    fig.tight_layout()\n",
    "    fig.subplots_adjust(hspace=.30)\n",
    "    \n",
    "\n",
    "    for i, ax in enumerate(axes.flat):\n",
    "        if i < len(img):\n",
    "            ax.imshow(img[i])\n",
    "        ax.axis('off')"
   ]
  },
  {
   "cell_type": "code",
   "execution_count": 15,
   "id": "b1b00d67-c838-4625-966d-040383220796",
   "metadata": {},
   "outputs": [
    {
     "ename": "NameError",
     "evalue": "name 'show_persentated_image_eachclass' is not defined",
     "output_type": "error",
     "traceback": [
      "\u001b[1;31m---------------------------------------------------------------------------\u001b[0m",
      "\u001b[1;31mNameError\u001b[0m                                 Traceback (most recent call last)",
      "Cell \u001b[1;32mIn[15], line 1\u001b[0m\n\u001b[1;32m----> 1\u001b[0m \u001b[43mshow_persentated_image_eachclass\u001b[49m(\u001b[38;5;241m6\u001b[39m)\n",
      "\u001b[1;31mNameError\u001b[0m: name 'show_persentated_image_eachclass' is not defined"
     ]
    }
   ],
   "source": [
    "show_persentated_image_eachclass(6)"
   ]
  },
  {
   "cell_type": "code",
   "execution_count": null,
   "id": "660de627-aab8-4727-948d-03e8d7a6df39",
   "metadata": {},
   "outputs": [],
   "source": []
  }
 ],
 "metadata": {
  "kernelspec": {
   "display_name": "Python 3 (ipykernel)",
   "language": "python",
   "name": "python3"
  },
  "language_info": {
   "codemirror_mode": {
    "name": "ipython",
    "version": 3
   },
   "file_extension": ".py",
   "mimetype": "text/x-python",
   "name": "python",
   "nbconvert_exporter": "python",
   "pygments_lexer": "ipython3",
   "version": "3.9.19"
  }
 },
 "nbformat": 4,
 "nbformat_minor": 5
}
